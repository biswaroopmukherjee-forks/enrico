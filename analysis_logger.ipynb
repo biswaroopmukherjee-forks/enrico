{
 "cells": [
  {
   "cell_type": "markdown",
   "metadata": {},
   "source": [
    "## Select the analysis mode from the dropdown menu below."
   ]
  },
  {
   "cell_type": "code",
   "execution_count": 1,
   "metadata": {},
   "outputs": [
    {
     "name": "stdout",
     "output_type": "stream",
     "text": [
      "no matlab engine, debugging mode\n"
     ]
    },
    {
     "data": {
      "application/vnd.jupyter.widget-view+json": {
       "model_id": "d06513b2c78845708c97ce104df9460c",
       "version_major": 2,
       "version_minor": 0
      },
      "text/plain": [
       "interactive(children=(Dropdown(description='analysis_mode', options=('fake analysis', 'fake analysis 2', 'ycam…"
      ]
     },
     "metadata": {},
     "output_type": "display_data"
    }
   ],
   "source": [
    "import ipywidgets as widgets\n",
    "from ipywidgets import interact\n",
    "from measurement_directory import *\n",
    "import analysis_wrappers\n",
    "\n",
    "def set_analysis_type(analysis_mode):\n",
    "    global analysis_type\n",
    "    analysis_type = analysis_mode\n",
    "    print('analysis mode is {a_type} \\n'.format(a_type = analysis_type))\n",
    "\n",
    "mode_select_widget = interact(set_analysis_type,analysis_mode=['fake analysis' , 'fake analysis 2', 'ycam', 'zcam_dual_imaging'])"
   ]
  },
  {
   "cell_type": "markdown",
   "metadata": {},
   "source": [
    "## Enter the run from today you wish to analyze."
   ]
  },
  {
   "cell_type": "code",
   "execution_count": 3,
   "metadata": {},
   "outputs": [
    {
     "name": "stdout",
     "output_type": "stream",
     "text": [
      "today's measurement(s):\n",
      "['foo', 'foo1', 'misplacedimages110044', 'misplacedimages120024']\n",
      "Enter name for this set of runs:foo1\n"
     ]
    }
   ],
   "source": [
    "global watchfile\n",
    "print('today\\'s measurement(s):')\n",
    "print(todays_measurements())\n",
    "measurement_dir = measurement_directory()\n",
    "watchfile = measurement_dir + r'\\image_log.csv'"
   ]
  },
  {
   "cell_type": "markdown",
   "metadata": {},
   "source": [
    "## Run the cell below to begin analyzing.\n",
    "\n",
    "Check the output; it will update as images are analyzed.\n",
    "\n",
    "To stop the analysis, press the interrupt kernel/stop button at the very top. You can restart the analysis by simply running the cell below again. The console output will be cleared, but not to worry, it's all in the log file."
   ]
  },
  {
   "cell_type": "code",
   "execution_count": 3,
   "metadata": {},
   "outputs": [
    {
     "name": "stdout",
     "output_type": "stream",
     "text": [
      "\n",
      "\n",
      " Watching this file for changes: 08\\200806\\foo1\\image_log.csv\n",
      "\n",
      "\n",
      "C:\\Users\\Alex\\Dropbox (MIT)\\lab side projects\\control software\\enrico\\08\\200806\\foo1\\image00.csv\n",
      "image00.csv analyzing: \n",
      "fake analysis 1 8\n",
      "fake analysis 2 27\n",
      "C:\\Users\\Alex\\Dropbox (MIT)\\lab side projects\\control software\\enrico\\08\\200806\\foo1\\image10_120036.csv\n",
      "image10_120036.csv analyzing: \n",
      "fake analysis 1 24\n",
      "fake analysis 2 14\n"
     ]
    },
    {
     "ename": "KeyboardInterrupt",
     "evalue": "",
     "output_type": "error",
     "traceback": [
      "\u001b[1;31m---------------------------------------------------------------------------\u001b[0m",
      "\u001b[1;31mKeyboardInterrupt\u001b[0m                         Traceback (most recent call last)",
      "\u001b[1;32m<ipython-input-3-8389c93c1d21>\u001b[0m in \u001b[0;36m<module>\u001b[1;34m\u001b[0m\n\u001b[0;32m    118\u001b[0m         \u001b[0mtime\u001b[0m\u001b[1;33m.\u001b[0m\u001b[0msleep\u001b[0m\u001b[1;33m(\u001b[0m\u001b[0mrefresh_time\u001b[0m\u001b[1;33m)\u001b[0m\u001b[1;33m\u001b[0m\u001b[1;33m\u001b[0m\u001b[0m\n\u001b[0;32m    119\u001b[0m \u001b[1;33m\u001b[0m\u001b[0m\n\u001b[1;32m--> 120\u001b[1;33m \u001b[0mmain\u001b[0m\u001b[1;33m(\u001b[0m\u001b[1;33m)\u001b[0m\u001b[1;33m\u001b[0m\u001b[1;33m\u001b[0m\u001b[0m\n\u001b[0m",
      "\u001b[1;32m<ipython-input-3-8389c93c1d21>\u001b[0m in \u001b[0;36mmain\u001b[1;34m()\u001b[0m\n\u001b[0;32m    116\u001b[0m \u001b[1;33m\u001b[0m\u001b[0m\n\u001b[0;32m    117\u001b[0m         \u001b[1;31m# Wait before checking again\u001b[0m\u001b[1;33m\u001b[0m\u001b[1;33m\u001b[0m\u001b[1;33m\u001b[0m\u001b[0m\n\u001b[1;32m--> 118\u001b[1;33m         \u001b[0mtime\u001b[0m\u001b[1;33m.\u001b[0m\u001b[0msleep\u001b[0m\u001b[1;33m(\u001b[0m\u001b[0mrefresh_time\u001b[0m\u001b[1;33m)\u001b[0m\u001b[1;33m\u001b[0m\u001b[1;33m\u001b[0m\u001b[0m\n\u001b[0m\u001b[0;32m    119\u001b[0m \u001b[1;33m\u001b[0m\u001b[0m\n\u001b[0;32m    120\u001b[0m \u001b[0mmain\u001b[0m\u001b[1;33m(\u001b[0m\u001b[1;33m)\u001b[0m\u001b[1;33m\u001b[0m\u001b[1;33m\u001b[0m\u001b[0m\n",
      "\u001b[1;31mKeyboardInterrupt\u001b[0m: "
     ]
    }
   ],
   "source": [
    "import os\n",
    "import time\n",
    "import datetime\n",
    "import shutil\n",
    "import posixpath\n",
    "import sys\n",
    "# from breadboard import BreadboardClient\n",
    "import warnings\n",
    "import pandas as pd\n",
    "from numpy import isnan\n",
    "from logparsing import translate_stringy_list\n",
    "\n",
    "\"\"\"import analysis function, which accepts filepath and optionally previous settings, from analysis_wrappers.py, and \n",
    "returns (analysis_dict, settings_dict).\"\"\"\n",
    "if analysis_type == 'fake analysis':\n",
    "    analysis_function = analysis_wrappers.fake_analysis1\n",
    "    analyzed_var_names = ['fake analysis 1', 'fake analysis 2']\n",
    "elif analysis_type == 'fake analysis 2':\n",
    "    analysis_function = analysis_wrappers.fake_analysis2\n",
    "    analyzed_var_names = ['fake analysis 3', 'fake analysis 4']\n",
    "elif analysis_type == 'ycam':\n",
    "    analyzed_var_names = ['bareNcntAverageMarqueeBoxValues', \n",
    "                          'COMX', 'COMY'] #TODO set MATLAB analyzed_var_names properly\n",
    "    analysis_function = analysis_wrappers.ycam_analysis\n",
    "elif analysis_type == 'zcam_dual_imaging':\n",
    "    analyzed_var_names = ['K_bareNcntAverageMarqueeBoxValues', 'Na_bareNcntAverageMarqueeBoxValues'\n",
    "                          'Na_COMX', 'Na_COMY'] #TODO set MATLAB analyzed_var_names properly\n",
    "    analysis_function = analysis_wrappers.dual_imaging_analysis\n",
    "\n",
    "warnings.filterwarnings(\n",
    "    \"ignore\", \"Your application has authenticated using end user credentials\")\n",
    "warnings.filterwarnings(\n",
    "    \"ignore\", \"Could not find appropriate MS Visual C Runtime\")\n",
    "# bc = BreadboardClient(config_path='API_CONFIG_fermi1.json')\n",
    "\n",
    "def analysis_to_imagelog(image_log_df, idx, outputlog_filename, previous_settings = None,\n",
    "                        output_previous_settings = True):\n",
    "    image_filename = image_log_df.loc[idx, 'filename0']\n",
    "    abs_image_path = os.path.join(os.path.join(os.getcwd(), measurement_dir), image_filename)\n",
    "    print(abs_image_path)\n",
    "    settings = None\n",
    "    if analysis_type == 'fake analysis' or analysis_type == 'fake analysis 2':\n",
    "        analysis_dict, settings = analysis_function(image_filename)\n",
    "    elif previous_settings is None:\n",
    "        analysis_dict, settings = analysis_function(abs_image_path)#no marquee box yet\n",
    "    else:\n",
    "        analysis_dict, settings = analysis_function(abs_image_path, previous_settings)\n",
    "    if not output_previous_settings:\n",
    "        settings = None #forces user to select new marquee box for each shot\n",
    "    image_log_df = pd.read_csv(outputlog_filename) #get updated copy of log to prevent overwriting\n",
    "    print('{file} analyzing: '.format(file=image_filename))\n",
    "    for key in analyzed_var_names:\n",
    "        print(key, analysis_dict[key])\n",
    "        image_log_df.loc[idx,key] = analysis_dict[key]\n",
    "    image_log_df.to_csv(outputlog_filename, index = False)\n",
    "#     print('{file} analyzed: '.format(file=image_filename) + str(analysis_dict))\n",
    "    return image_log_df, settings\n",
    "\n",
    "def main():\n",
    "    # Global settings\n",
    "    # bc = BreadboardClient(config_path='API_CONFIG.json') # enter your path to the API_config\n",
    "    refresh_time = 1  # seconds\n",
    "    global watchfile\n",
    "    previous_settings = None\n",
    "    print(\"\\n\\n Watching this file for changes: \" + watchfile + \"\\n\\n\")\n",
    "    # Main Loop\n",
    "    while True:\n",
    "        if not os.path.exists(watchfile):\n",
    "            time.sleep(refresh_time)\n",
    "            continue\n",
    "        else:\n",
    "            image_log_df = pd.read_csv(watchfile)\n",
    "\n",
    "        for var_name in analyzed_var_names:\n",
    "            if var_name not in image_log_df.columns: #start new analysis type\n",
    "#             print('{analysis} analysis started'.format(analysis = analysis_type))\n",
    "                image_log_df, previous_settings = analysis_to_imagelog(image_log_df, 0, watchfile, previous_settings)\n",
    "                if 'analyzed_variables' not in image_log_df.columns:\n",
    "                    image_log_df.loc[0,'analyzed_variables'] = str(analyzed_var_names)\n",
    "                    image_log_df.to_csv(watchfile, index = False)\n",
    "                else:\n",
    "                    old_analyzed_variables = set(translate_stringy_list(image_log_df.loc[0,'analyzed_variables']))\n",
    "                    updated_analyzed_variables = list(old_analyzed_variables.union(set(analyzed_var_names)))\n",
    "                    image_log_df.loc[0,'analyzed_variables'] = str(updated_analyzed_variables)\n",
    "                    image_log_df.to_csv(watchfile, index = False)\n",
    "            else: #queue un-analyzed images\n",
    "                for idx in reversed(range(len(image_log_df.index))): #start from most recent image first\n",
    "                    if isnan(image_log_df.loc[idx, var_name]):\n",
    "                        image_log_df, previous_settings = analysis_to_imagelog(image_log_df, idx, watchfile, previous_settings)\n",
    "                        if isinstance(image_log_df.loc[idx,'analyzed_variables'],float):\n",
    "                            image_log_df.loc[idx,'analyzed_variables'] = str(analyzed_var_names)\n",
    "                            image_log_df.to_csv(watchfile, index = False)\n",
    "                        else:\n",
    "                            old_analyzed_variables = set(translate_stringy_list(image_log_df.loc[idx,'analyzed_variables']))\n",
    "                            updated_analyzed_variables = list(old_analyzed_variables.union(set(analyzed_var_names)))\n",
    "                            image_log_df.loc[idx,'analyzed_variables'] = str(updated_analyzed_variables)\n",
    "                            image_log_df.to_csv(watchfile, index = False)\n",
    "\n",
    "            # # Write to Breadboard\n",
    "            # try:\n",
    "            #     resp = bc.post_images(\n",
    "            #                 image_names = os.path.splitext(output_filename)[0],\n",
    "            #                 filepath = output_filepath,\n",
    "            #                 image_times = [dt],\n",
    "            #                 auto_time = False # Add more information here\n",
    "            #                 )\n",
    "            #     if resp.status_code!=200:\n",
    "            #         print(resp.text)\n",
    "            # except: pass\n",
    "            # names_old = names\n",
    "#             length_old = len(image_log_df.index)\n",
    "        time.sleep(refresh_time)\n",
    "\n",
    "main()"
   ]
  },
  {
   "cell_type": "code",
   "execution_count": null,
   "metadata": {},
   "outputs": [],
   "source": []
  }
 ],
 "metadata": {
  "kernelspec": {
   "display_name": "Python 3",
   "language": "python",
   "name": "python3"
  },
  "language_info": {
   "codemirror_mode": {
    "name": "ipython",
    "version": 3
   },
   "file_extension": ".py",
   "mimetype": "text/x-python",
   "name": "python",
   "nbconvert_exporter": "python",
   "pygments_lexer": "ipython3",
   "version": "3.7.1"
  }
 },
 "nbformat": 4,
 "nbformat_minor": 4
}
